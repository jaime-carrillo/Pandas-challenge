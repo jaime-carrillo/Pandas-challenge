{
 "cells": [
  {
   "cell_type": "markdown",
   "metadata": {},
   "source": [
    "### Summary\n",
    "* 65% of the students in the district pass both, math and reading, with the average score of 78.9 and 81.8 respectively.\n",
    "* In comparison, the five top performing schools had slightly more than 90% of their students passing both subjects. \n",
    "* The top performing schools were all medium-size, charter schools with lower budget per student ranges and with similar average scores for math and reading.\n",
    "* The five bottom performing schools were about 12 percentual points below the average of students passing both subjects in the district.\n",
    "* The bottom performing schools were large-size, district schools with higher budget per students ranges and with lower math average scores than reading.\n",
    "* There were no significant variance between average math and reading scores by grade across all schools."
   ]
  },
  {
   "cell_type": "code",
   "execution_count": null,
   "metadata": {},
   "outputs": [],
   "source": [
    "# Dependencies and Setup\n",
    "import pandas as pd\n",
    "import numpy as np\n",
    "import csv\n",
    "import os"
   ]
  },
  {
   "cell_type": "code",
   "execution_count": null,
   "metadata": {},
   "outputs": [],
   "source": [
    "total_schools = 0\n",
    "total_students = 0\n",
    "total_budget = 0\n",
    "school_directory = {}"
   ]
  },
  {
   "cell_type": "code",
   "execution_count": null,
   "metadata": {},
   "outputs": [],
   "source": [
    "# File to Load (Remember to Change These)\n",
    "\n",
    "csvpath = os.path.join('Resources/schools_complete.csv')\n",
    "# print(csvpath)\n",
    "\n",
    "csvpath = os.path.join('Resources/students_complete.csv')\n",
    "# print(csvpath)\n",
    "\n",
    "\n",
    "# Read School and Student Data File and store into Pandas DataFrames\n",
    "school_data = pd.read_csv('Resources/schools_complete.csv')\n",
    "student_data = pd.read_csv('Resources/students_complete.csv')\n",
    "school_data\n",
    "\n",
    "# school_data.head()\n",
    "# student_data.head()"
   ]
  },
  {
   "cell_type": "code",
   "execution_count": null,
   "metadata": {},
   "outputs": [],
   "source": [
    "# Combine the data into a single dataset.  \n",
    "school_data_complete = pd.merge(student_data, school_data, how=\"left\", on=\"school_name\")\n",
    "\n",
    "school_data_complete.head()\n",
    "# school_data_complete.dtypes"
   ]
  },
  {
   "cell_type": "markdown",
   "metadata": {},
   "source": [
    "## District Summary\n",
    "\n",
    "* Calculate the total number of schools\n",
    "\n",
    "* Calculate the total number of students\n",
    "\n",
    "* Calculate the total budget\n",
    "\n",
    "* Calculate the average math score \n",
    "\n",
    "* Calculate the average reading score\n",
    "\n",
    "* Calculate the percentage of students with a passing math score (70 or greater)\n",
    "\n",
    "* Calculate the percentage of students with a passing reading score (70 or greater)\n",
    "\n",
    "* Calculate the percentage of students who passed math **and** reading (% Overall Passing)\n",
    "\n",
    "* Create a dataframe to hold the above results\n",
    "\n",
    "* Optional: give the displayed data cleaner formatting"
   ]
  },
  {
   "cell_type": "code",
   "execution_count": null,
   "metadata": {},
   "outputs": [],
   "source": [
    "# total_schools\n",
    "total_schools = len(school_data_complete[\"school_name\"].unique())\n",
    "# total_schools"
   ]
  },
  {
   "cell_type": "code",
   "execution_count": null,
   "metadata": {},
   "outputs": [],
   "source": [
    "total_students = (school_data_complete[\"student_name\"].count())\n",
    "# total_students"
   ]
  },
  {
   "cell_type": "code",
   "execution_count": null,
   "metadata": {},
   "outputs": [],
   "source": [
    "total_budget = 0\n",
    "\n",
    "schools_budgets = (school_data[\"budget\"].sum())\n",
    "# schools_budgets"
   ]
  },
  {
   "cell_type": "code",
   "execution_count": null,
   "metadata": {},
   "outputs": [],
   "source": [
    "math_score = (school_data_complete[\"math_score\"].mean())\n",
    "# math_score"
   ]
  },
  {
   "cell_type": "code",
   "execution_count": null,
   "metadata": {},
   "outputs": [],
   "source": [
    "reading_score = (school_data_complete[\"reading_score\"].mean())\n",
    "# reading_score"
   ]
  },
  {
   "cell_type": "code",
   "execution_count": null,
   "metadata": {},
   "outputs": [],
   "source": [
    "# Calculate the percentage of students with a passing math score (70 or greater)\n",
    "passing_score = school_data_complete[school_data_complete[\"math_score\"] >=70].count()['Student ID']\n",
    "# passing_score\n",
    "\n",
    "percent_math = passing_score / total_students*100\n",
    "# percent_math"
   ]
  },
  {
   "cell_type": "code",
   "execution_count": null,
   "metadata": {},
   "outputs": [],
   "source": [
    "# Calculate the percentage of students with a passing reading score (70 or greater)\n",
    "\n",
    "pass_read_score = school_data_complete[school_data_complete[\"reading_score\"] >=70].count()['Student ID']\n",
    "# pass_read_score\n",
    "\n",
    "percent_read = pass_read_score / total_students*100\n",
    "# percent_read\n"
   ]
  },
  {
   "cell_type": "code",
   "execution_count": null,
   "metadata": {},
   "outputs": [],
   "source": [
    "# Calculate the percentage of students who passed math and reading (% Overall Passing)\n",
    "\n",
    "pass_both = school_data_complete[(school_data_complete[\"reading_score\"] >=70) & (school_data_complete[\"math_score\"] >=70)].count()['Student ID']\n",
    "# pass_both\n",
    "\n",
    "percent_both = pass_both / total_students*100\n",
    "# percent_both\n"
   ]
  },
  {
   "cell_type": "code",
   "execution_count": null,
   "metadata": {},
   "outputs": [],
   "source": [
    "# Create a dataframe to hold the above results\n",
    "\n",
    "district_summary = pd.DataFrame({\"Total School\":[total_schools],\"Total Students\":[total_students], \"Total Budget\":[schools_budgets], \"Average Math Score\":[math_score], \"Average Reading Score\":[reading_score], \"% Passing Math\":[percent_math],\"% Passing Reading\":[percent_read], \"% Overall Passing\":[percent_both]})\n",
    "# district_summary\n",
    "\n",
    "district_summary[\"Total Students\"] = district_summary[\"Total Students\"].map(\"{:,}\".format)\n",
    "\n",
    "district_summary[\"Total Budget\"] = district_summary[\"Total Budget\"].map(\"${:,.2f}\".format)\n",
    "district_summary"
   ]
  },
  {
   "cell_type": "markdown",
   "metadata": {},
   "source": [
    "## School Summary"
   ]
  },
  {
   "cell_type": "markdown",
   "metadata": {},
   "source": [
    "* Create an overview table that summarizes key metrics about each school, including:\n",
    "  * School Name\n",
    "  * School Type\n",
    "  * Total Students\n",
    "  * Total School Budget\n",
    "  * Per Student Budget\n",
    "  * Average Math Score\n",
    "  * Average Reading Score\n",
    "  * % Passing Math\n",
    "  * % Passing Reading\n",
    "  * % Overall Passing (The percentage of students that passed math **and** reading.)\n",
    "  \n",
    "* Create a dataframe to hold the above results"
   ]
  },
  {
   "cell_type": "code",
   "execution_count": null,
   "metadata": {},
   "outputs": [],
   "source": [
    "passing_math = 0\n",
    "\n",
    "school_types = school_data.set_index([\"school_name\"])[\"type\"]\n",
    "# school_types\n",
    "\n",
    "total_students_per_school = school_data_complete[\"school_name\"].value_counts()\n",
    "# # total_students_per_school\n",
    "\n",
    "total_budget_per_school = school_data.set_index([\"school_name\"])[\"budget\"]\n",
    "# # total_budget_per_school\n",
    "\n",
    "budget_per_student = total_budget_per_school / total_students_per_school\n",
    "# budget_per_student\n",
    "\n",
    "schools_score = student_data.groupby(student_data[\"school_name\"])\n",
    "# # schools_score\n",
    "\n",
    "school_total_math_score = schools_score[\"math_score\"].sum()\n",
    "# # school_total_math_score\n",
    "\n",
    "average_math_score = school_total_math_score / total_students_per_school\n",
    "# # average_math_score\n",
    "\n",
    "school_total_reading_score = schools_score[\"reading_score\"].sum()\n",
    "# # school_total_reading_score\n",
    "\n",
    "average_reading_score = school_total_reading_score / total_students_per_school\n",
    "# # average_reading_score\n",
    "\n",
    "# # # schools_score[\"math_score\"].dtype\n",
    "\n",
    "passing_math = school_data_complete[school_data_complete[\"math_score\"] >=70]\n",
    "# # passing_math\n",
    "\n",
    "math_per_school = passing_math.groupby(\"school_name\").count()[\"Student ID\"] / total_students_per_school * 100\n",
    "# # math_per_school\n",
    "\n",
    "passing_reading = school_data_complete[school_data_complete[\"reading_score\"] >=70]\n",
    "\n",
    "reading_per_school = passing_reading.groupby(\"school_name\").count()[\"Student ID\"] / total_students_per_school * 100\n",
    "# reading_per_school\n",
    "\n",
    "pass_both_per_school = school_data_complete[(school_data_complete[\"reading_score\"] >=70) & (school_data_complete[\"math_score\"] >=70)]\n",
    "# pass_both_per_school\n",
    "\n",
    "passing_both_per_school = pass_both_per_school.groupby(\"school_name\").count()[\"Student ID\"]  / total_students_per_school * 100\n",
    "# passing_both_per_school"
   ]
  },
  {
   "cell_type": "code",
   "execution_count": null,
   "metadata": {},
   "outputs": [],
   "source": [
    "school_summary = pd.DataFrame({\"School Type\":school_types,\n",
    "                               \"Total Students\":total_students_per_school,\n",
    "                               \"Total School Budget\":total_budget_per_school,\n",
    "                               \"Per Student Budget\":budget_per_student,\n",
    "                               \"Average Math Score\":average_math_score,\n",
    "                               \"Average Reading Score\":average_reading_score,\n",
    "                               \"% Passing Math\":math_per_school,\n",
    "                               \"% Passing Reading\":reading_per_school,\n",
    "                               \"% Overall Passing\":passing_both_per_school\n",
    "                              })\n",
    "# school_summary\n",
    "\n",
    "\n",
    "\n",
    "school_summary[\"Total School Budget\"] = school_summary[\"Total School Budget\"].map(\"${:,.2f}\".format)\n",
    "school_summary[\"Per Student Budget\"] = school_summary[\"Per Student Budget\"].map(\"${:,.2f}\".format)\n",
    "school_summary"
   ]
  },
  {
   "cell_type": "markdown",
   "metadata": {},
   "source": [
    "## Top Performing Schools (By % Overall Passing)"
   ]
  },
  {
   "cell_type": "markdown",
   "metadata": {},
   "source": [
    "* Sort and display the top five performing schools by % overall passing."
   ]
  },
  {
   "cell_type": "code",
   "execution_count": null,
   "metadata": {
    "scrolled": true
   },
   "outputs": [],
   "source": [
    "top_schools = school_summary.sort_values([\"% Overall Passing\"], ascending=False)\n",
    "top_schools.head(5)"
   ]
  },
  {
   "cell_type": "markdown",
   "metadata": {},
   "source": [
    "## Bottom Performing Schools (By % Overall Passing)"
   ]
  },
  {
   "cell_type": "markdown",
   "metadata": {},
   "source": [
    "* Sort and display the five worst-performing schools by % overall passing."
   ]
  },
  {
   "cell_type": "code",
   "execution_count": null,
   "metadata": {},
   "outputs": [],
   "source": [
    "bottom_schools = school_summary.sort_values([\"% Overall Passing\"], ascending=True)\n",
    "bottom_schools.head(5)"
   ]
  },
  {
   "cell_type": "markdown",
   "metadata": {
    "collapsed": true
   },
   "source": [
    "## Math Scores by Grade"
   ]
  },
  {
   "cell_type": "markdown",
   "metadata": {},
   "source": [
    "* Create a table that lists the average Reading Score for students of each grade level (9th, 10th, 11th, 12th) at each school.\n",
    "\n",
    "  * Create a pandas series for each grade. Hint: use a conditional statement.\n",
    "  \n",
    "  * Group each series by school\n",
    "  \n",
    "  * Combine the series into a dataframe\n",
    "  \n",
    "  * Optional: give the displayed data cleaner formatting"
   ]
  },
  {
   "cell_type": "code",
   "execution_count": null,
   "metadata": {},
   "outputs": [],
   "source": [
    "grade_nine = school_data_complete.loc[school_data_complete[\"grade\"] == \"9th\"]\n",
    "grade_nine.head()\n",
    "\n",
    "grade_ten = school_data_complete.loc[school_data_complete[\"grade\"] == \"10th\", :]\n",
    "# grade_ten.head()\n",
    "\n",
    "grade_eleven = school_data_complete.loc[school_data_complete[\"grade\"] == \"11th\", :]\n",
    "# grade_eleven.head()\n",
    "\n",
    "grade_twelve = school_data_complete.loc[school_data_complete[\"grade\"] == \"12th\", :]\n",
    "# grade_twelve.head()"
   ]
  },
  {
   "cell_type": "code",
   "execution_count": null,
   "metadata": {},
   "outputs": [],
   "source": [
    "grade_nine_by_school = grade_nine.groupby(grade_nine[\"school_name\"]).mean()[\"math_score\"]\n",
    "grade_nine_by_school.head()\n",
    "\n",
    "grade_ten_by_school = grade_ten.groupby(grade_ten[\"school_name\"]).mean()[\"math_score\"]\n",
    "# grade_ten_by_school.head()\n",
    "\n",
    "grade_eleven_by_school = grade_eleven.groupby(grade_eleven[\"school_name\"]).mean()[\"math_score\"]\n",
    "# grade_eleven_by_school.head()\n",
    "\n",
    "grade_twelve_by_school = grade_twelve.groupby(grade_twelve[\"school_name\"]).mean()[\"math_score\"]\n",
    "# grade_twelve_by_school.head()"
   ]
  },
  {
   "cell_type": "code",
   "execution_count": null,
   "metadata": {},
   "outputs": [],
   "source": [
    "math_score_by_grade = pd.DataFrame({\"9th\":grade_nine_by_school,\"10th\":grade_ten_by_school,\"11th\":grade_eleven_by_school, \"12th\":grade_twelve_by_school})\n",
    "math_score_by_grade"
   ]
  },
  {
   "cell_type": "markdown",
   "metadata": {},
   "source": [
    "## Reading Score by Grade "
   ]
  },
  {
   "cell_type": "markdown",
   "metadata": {},
   "source": [
    "* Perform the same operations as above for reading scores"
   ]
  },
  {
   "cell_type": "code",
   "execution_count": null,
   "metadata": {},
   "outputs": [],
   "source": [
    "grade_nine_by_school_read = grade_nine.groupby(grade_nine[\"school_name\"]).mean()[\"reading_score\"]\n",
    "grade_nine_by_school.head()\n",
    "\n",
    "grade_ten_by_school_read = grade_ten.groupby(grade_ten[\"school_name\"]).mean()[\"reading_score\"]\n",
    "# grade_ten_by_school.head()\n",
    "\n",
    "grade_eleven_by_school_read = grade_eleven.groupby(grade_eleven[\"school_name\"]).mean()[\"reading_score\"]\n",
    "# grade_eleven_by_school.head()\n",
    "\n",
    "grade_twelve_by_school_read = grade_twelve.groupby(grade_twelve[\"school_name\"]).mean()[\"reading_score\"]\n",
    "# grade_twelve_by_school.head()"
   ]
  },
  {
   "cell_type": "code",
   "execution_count": null,
   "metadata": {},
   "outputs": [],
   "source": [
    "read_score_by_grade_read = pd.DataFrame({\"9th\":grade_nine_by_school_read,\"10th\":grade_ten_by_school_read,\"11th\":grade_eleven_by_school_read, \"12th\":grade_twelve_by_school_read})\n",
    "read_score_by_grade_read"
   ]
  },
  {
   "cell_type": "markdown",
   "metadata": {},
   "source": [
    "## Scores by School Spending"
   ]
  },
  {
   "cell_type": "markdown",
   "metadata": {},
   "source": [
    "* Create a table that breaks down school performances based on average Spending Ranges (Per Student). Use 4 reasonable bins to group school spending. Include in the table each of the following:\n",
    "  * Average Math Score\n",
    "  * Average Reading Score\n",
    "  * % Passing Math\n",
    "  * % Passing Reading\n",
    "  * Overall Passing Rate (Average of the above two)"
   ]
  },
  {
   "cell_type": "code",
   "execution_count": null,
   "metadata": {},
   "outputs": [],
   "source": [
    "bins = [0, 585, 630, 645, 675]\n",
    "\n",
    "budget_labels = [\"<$584\", \"$585-629\", \"$630-644\", \"$645-675\"]\n",
    "\n",
    "# pd.cut(school_summary[\"Per Student Budget\"], bins, labels=budget_labels)\n",
    "\n",
    "school_summary[\"Spending Ranges (Per Student)\"] = pd.cut(budget_per_student, bins, labels=budget_labels)\n",
    "# school_summary\n",
    "spending_ranges = school_summary.groupby(\"Spending Ranges (Per Student)\")\n",
    "\n",
    "spending_math_score = spending_ranges.mean()[\"Average Math Score\"]\n",
    "spending_read_score = spending_ranges.mean()[\"Average Reading Score\"]\n",
    "spending_math_passing = spending_ranges.mean()[\"% Passing Math\"]\n",
    "spending_read_passing = spending_ranges.mean()[\"% Passing Reading\"]\n",
    "spending_overall_passing = spending_ranges.mean()[\"% Overall Passing\"]\n",
    "\n",
    "spending_summary = pd.DataFrame({\"Average Math Score\":spending_math_score,\"Average Reading Score\":spending_read_score,\"% Passing Math\":spending_math_passing, \"% Passing Reading\":spending_read_passing, \"% Overall Passing\":spending_overall_passing })\n",
    "spending_summary"
   ]
  },
  {
   "cell_type": "markdown",
   "metadata": {},
   "source": [
    "## Scores by School Size"
   ]
  },
  {
   "cell_type": "markdown",
   "metadata": {},
   "source": [
    "* Perform the same operations as above, based on school size."
   ]
  },
  {
   "cell_type": "code",
   "execution_count": null,
   "metadata": {
    "scrolled": true
   },
   "outputs": [],
   "source": [
    "bins = [0, 1000, 2000, 5000]\n",
    "\n",
    "size_labels = [\"Small (<1000)\", \"Medium (1000-2000)\", \"Large (2000-5000)\"]\n",
    "\n",
    "school_summary[\"School Size\"] = pd.cut(school_summary[\"Total Students\"], bins, labels=size_labels)\n",
    "\n",
    "size_ranges = school_summary.groupby(\"School Size\")\n",
    "\n",
    "spending_math_score = size_ranges.mean()[\"Average Math Score\"]\n",
    "spending_read_score = size_ranges.mean()[\"Average Reading Score\"]\n",
    "spending_math_passing = size_ranges.mean()[\"% Passing Math\"]\n",
    "spending_read_passing = size_ranges.mean()[\"% Passing Reading\"]\n",
    "spending_overall_passing = size_ranges.mean()[\"% Overall Passing\"]\n",
    "\n",
    "size_summary = pd.DataFrame({\"Average Math Score\":spending_math_score,\"Average Reading Score\":spending_read_score,\"% Passing Math\":spending_math_passing, \"% Passing Reading\":spending_read_passing, \"% Overall Passing\":spending_overall_passing })\n",
    "size_summary"
   ]
  },
  {
   "cell_type": "markdown",
   "metadata": {},
   "source": [
    "## Scores by School Type"
   ]
  },
  {
   "cell_type": "markdown",
   "metadata": {},
   "source": [
    "* Perform the same operations as above, based on school type"
   ]
  },
  {
   "cell_type": "code",
   "execution_count": null,
   "metadata": {},
   "outputs": [],
   "source": [
    "type_ranges = school_summary.groupby(\"School Type\")\n",
    "\n",
    "spending_math_score = type_ranges.mean()[\"Average Math Score\"]\n",
    "spending_read_score = type_ranges.mean()[\"Average Reading Score\"]\n",
    "spending_math_passing = type_ranges.mean()[\"% Passing Math\"]\n",
    "spending_read_passing = type_ranges.mean()[\"% Passing Reading\"]\n",
    "spending_overall_passing = type_ranges.mean()[\"% Overall Passing\"]\n",
    "\n",
    "type_summary = pd.DataFrame({\"Average Math Score\":spending_math_score,\"Average Reading Score\":spending_read_score,\"% Passing Math\":spending_math_passing, \"% Passing Reading\":spending_read_passing, \"% Overall Passing\":spending_overall_passing })\n",
    "type_summary"
   ]
  },
  {
   "cell_type": "code",
   "execution_count": null,
   "metadata": {},
   "outputs": [],
   "source": []
  }
 ],
 "metadata": {
  "anaconda-cloud": {},
  "kernel_info": {
   "name": "python3"
  },
  "kernelspec": {
   "display_name": "Python 3",
   "language": "python",
   "name": "python3"
  },
  "language_info": {
   "codemirror_mode": {
    "name": "ipython",
    "version": 3
   },
   "file_extension": ".py",
   "mimetype": "text/x-python",
   "name": "python",
   "nbconvert_exporter": "python",
   "pygments_lexer": "ipython3",
   "version": "3.7.6"
  },
  "latex_envs": {
   "LaTeX_envs_menu_present": true,
   "autoclose": false,
   "autocomplete": true,
   "bibliofile": "biblio.bib",
   "cite_by": "apalike",
   "current_citInitial": 1,
   "eqLabelWithNumbers": true,
   "eqNumInitial": 1,
   "hotkeys": {
    "equation": "Ctrl-E",
    "itemize": "Ctrl-I"
   },
   "labels_anchors": false,
   "latex_user_defs": false,
   "report_style_numbering": false,
   "user_envs_cfg": false
  },
  "nteract": {
   "version": "0.8.4"
  }
 },
 "nbformat": 4,
 "nbformat_minor": 1
}
